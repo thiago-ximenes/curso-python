{
 "cells": [
  {
   "cell_type": "code",
   "execution_count": 3,
   "source": [
    "def f(**kwargs):\n",
    "    print(f\"\\nkwargs = {kwargs}\")\n",
    "    for key, value in kwargs.items():\n",
    "        print(key, value)\n",
    "    \n",
    "\n",
    "f()\n",
    "f(nome=\"Thiago\")\n",
    "f(nome=\"Thiago\", idade=30)\n",
    "f(nome=\"Thiago\", idade=30, linguagens=[\"Python\", \"JavaScrip\"])"
   ],
   "outputs": [
    {
     "output_type": "stream",
     "name": "stdout",
     "text": [
      "\n",
      "kwargs = {}\n",
      "\n",
      "kwargs = {'nome': 'Thiago'}\n",
      "nome Thiago\n",
      "\n",
      "kwargs = {'nome': 'Thiago', 'idade': 30}\n",
      "nome Thiago\n",
      "idade 30\n",
      "\n",
      "kwargs = {'nome': 'Thiago', 'idade': 30, 'linguagens': ['Python', 'JavaScrip']}\n",
      "nome Thiago\n",
      "idade 30\n",
      "linguagens ['Python', 'JavaScrip']\n"
     ]
    }
   ],
   "metadata": {}
  }
 ],
 "metadata": {
  "orig_nbformat": 4,
  "language_info": {
   "name": "python",
   "version": "3.9.6",
   "mimetype": "text/x-python",
   "codemirror_mode": {
    "name": "ipython",
    "version": 3
   },
   "pygments_lexer": "ipython3",
   "nbconvert_exporter": "python",
   "file_extension": ".py"
  },
  "kernelspec": {
   "name": "python3",
   "display_name": "Python 3.9.6 64-bit"
  },
  "interpreter": {
   "hash": "767d51c1340bd893661ea55ea3124f6de3c7a262a8b4abca0554b478b1e2ff90"
  }
 },
 "nbformat": 4,
 "nbformat_minor": 2
}